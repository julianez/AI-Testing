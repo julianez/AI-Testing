{
 "cells": [
  {
   "cell_type": "code",
   "execution_count": 1,
   "id": "4805f1f3-61fc-418d-9a8b-5f512012fd33",
   "metadata": {},
   "outputs": [
    {
     "data": {
      "application/vnd.jupyter.widget-view+json": {
       "model_id": "d9bdca501ca54b8cabc44a9f32c766c1",
       "version_major": 2,
       "version_minor": 0
      },
      "text/plain": [
       "VBox(children=(HTML(value='<center> <img\\nsrc=https://huggingface.co/front/assets/huggingface_logo-noborder.sv…"
      ]
     },
     "metadata": {},
     "output_type": "display_data"
    }
   ],
   "source": [
    "#HuggingFace credentials:\n",
    "from huggingface_hub import notebook_login\n",
    "notebook_login()"
   ]
  },
  {
   "cell_type": "code",
   "execution_count": 5,
   "id": "c1eb928b-745b-4b27-a971-3b708c5049f0",
   "metadata": {},
   "outputs": [
    {
     "name": "stdout",
     "output_type": "stream",
     "text": [
      "Traceback (most recent call last):\n",
      "  File \"/home/julianez/miniconda3/bin/autotrain\", line 8, in <module>\n",
      "    sys.exit(main())\n",
      "             ^^^^^^\n",
      "  File \"/home/julianez/miniconda3/lib/python3.11/site-packages/autotrain/cli/autotrain.py\", line 47, in main\n",
      "    command = args.func(args)\n",
      "              ^^^^^^^^^^^^^^^\n",
      "  File \"/home/julianez/miniconda3/lib/python3.11/site-packages/autotrain/cli/run_llm.py\", line 12, in run_llm_command_factory\n",
      "    return RunAutoTrainLLMCommand(args)\n",
      "           ^^^^^^^^^^^^^^^^^^^^^^^^^^^^\n",
      "  File \"/home/julianez/miniconda3/lib/python3.11/site-packages/autotrain/cli/run_llm.py\", line 313, in __init__\n",
      "    raise ValueError(\"Token must be specified for push to hub\")\n",
      "ValueError: Token must be specified for push to hub\n"
     ]
    }
   ],
   "source": [
    "!autotrain llm --train --project-name train_test2 --model TinyPixel/Llama-2-7B-bf16-sharded --data-path timdettmers/openassistant-guanaco --use-peft --train-batch-size 2 --model_max_length 2048 --push-to-hub --repo-id 'julianez/train_test2'"
   ]
  },
  {
   "cell_type": "code",
   "execution_count": null,
   "id": "b806724b-2b98-4c09-a5df-37e994ab7c82",
   "metadata": {},
   "outputs": [],
   "source": []
  }
 ],
 "metadata": {
  "kernelspec": {
   "display_name": "Python 3 (ipykernel)",
   "language": "python",
   "name": "python3"
  },
  "language_info": {
   "codemirror_mode": {
    "name": "ipython",
    "version": 3
   },
   "file_extension": ".py",
   "mimetype": "text/x-python",
   "name": "python",
   "nbconvert_exporter": "python",
   "pygments_lexer": "ipython3",
   "version": "3.11.5"
  }
 },
 "nbformat": 4,
 "nbformat_minor": 5
}
